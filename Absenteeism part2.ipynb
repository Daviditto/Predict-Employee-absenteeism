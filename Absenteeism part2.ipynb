{
 "cells": [
  {
   "cell_type": "code",
   "execution_count": 96,
   "id": "1ecde19c",
   "metadata": {},
   "outputs": [],
   "source": [
    "import pandas as pd\n",
    "import seaborn as sns\n",
    "import matplotlib.pyplot as plt\n",
    "import numpy as np\n",
    "from sklearn.linear_model import LinearRegression, LogisticRegression\n",
    "from sklearn.preprocessing import StandardScaler\n",
    "from sklearn.model_selection import train_test_split\n",
    "from sklearn.pipeline import Pipeline\n",
    "from sklearn.metrics import classification_report, confusion_matrix\n",
    "from sklearn.base import BaseEstimator, TransformerMixin\n",
    "import plotly.express as px"
   ]
  },
  {
   "cell_type": "markdown",
   "id": "eabbd284",
   "metadata": {},
   "source": [
    "### load the data"
   ]
  },
  {
   "cell_type": "code",
   "execution_count": 97,
   "id": "0c9c1e16",
   "metadata": {},
   "outputs": [],
   "source": [
    "final_data = pd.read_csv('final_data.csv')"
   ]
  },
  {
   "cell_type": "code",
   "execution_count": 98,
   "id": "06dec3be",
   "metadata": {},
   "outputs": [
    {
     "data": {
      "text/html": [
       "<div>\n",
       "<style scoped>\n",
       "    .dataframe tbody tr th:only-of-type {\n",
       "        vertical-align: middle;\n",
       "    }\n",
       "\n",
       "    .dataframe tbody tr th {\n",
       "        vertical-align: top;\n",
       "    }\n",
       "\n",
       "    .dataframe thead th {\n",
       "        text-align: right;\n",
       "    }\n",
       "</style>\n",
       "<table border=\"1\" class=\"dataframe\">\n",
       "  <thead>\n",
       "    <tr style=\"text-align: right;\">\n",
       "      <th></th>\n",
       "      <th>Transportation Expense</th>\n",
       "      <th>Distance to Work</th>\n",
       "      <th>Age</th>\n",
       "      <th>Daily Work Load Average</th>\n",
       "      <th>Body Mass Index</th>\n",
       "      <th>Education</th>\n",
       "      <th>Children</th>\n",
       "      <th>Pets</th>\n",
       "      <th>Absenteeism Time in Hours</th>\n",
       "      <th>Month</th>\n",
       "      <th>day_of_week</th>\n",
       "      <th>Reason for Absence_1</th>\n",
       "      <th>Reason for Absence_2</th>\n",
       "      <th>Reason for Absence_3</th>\n",
       "      <th>Reason for Absence_4</th>\n",
       "    </tr>\n",
       "  </thead>\n",
       "  <tbody>\n",
       "    <tr>\n",
       "      <th>0</th>\n",
       "      <td>289</td>\n",
       "      <td>36</td>\n",
       "      <td>33</td>\n",
       "      <td>239.554</td>\n",
       "      <td>30</td>\n",
       "      <td>0</td>\n",
       "      <td>2</td>\n",
       "      <td>1</td>\n",
       "      <td>4</td>\n",
       "      <td>7</td>\n",
       "      <td>1</td>\n",
       "      <td>0</td>\n",
       "      <td>0</td>\n",
       "      <td>0</td>\n",
       "      <td>1</td>\n",
       "    </tr>\n",
       "    <tr>\n",
       "      <th>1</th>\n",
       "      <td>118</td>\n",
       "      <td>13</td>\n",
       "      <td>50</td>\n",
       "      <td>239.554</td>\n",
       "      <td>31</td>\n",
       "      <td>0</td>\n",
       "      <td>1</td>\n",
       "      <td>0</td>\n",
       "      <td>0</td>\n",
       "      <td>7</td>\n",
       "      <td>1</td>\n",
       "      <td>0</td>\n",
       "      <td>0</td>\n",
       "      <td>0</td>\n",
       "      <td>0</td>\n",
       "    </tr>\n",
       "    <tr>\n",
       "      <th>2</th>\n",
       "      <td>179</td>\n",
       "      <td>51</td>\n",
       "      <td>38</td>\n",
       "      <td>239.554</td>\n",
       "      <td>31</td>\n",
       "      <td>0</td>\n",
       "      <td>0</td>\n",
       "      <td>0</td>\n",
       "      <td>2</td>\n",
       "      <td>7</td>\n",
       "      <td>2</td>\n",
       "      <td>0</td>\n",
       "      <td>0</td>\n",
       "      <td>0</td>\n",
       "      <td>1</td>\n",
       "    </tr>\n",
       "    <tr>\n",
       "      <th>3</th>\n",
       "      <td>279</td>\n",
       "      <td>5</td>\n",
       "      <td>39</td>\n",
       "      <td>239.554</td>\n",
       "      <td>24</td>\n",
       "      <td>0</td>\n",
       "      <td>2</td>\n",
       "      <td>0</td>\n",
       "      <td>4</td>\n",
       "      <td>7</td>\n",
       "      <td>3</td>\n",
       "      <td>1</td>\n",
       "      <td>0</td>\n",
       "      <td>0</td>\n",
       "      <td>0</td>\n",
       "    </tr>\n",
       "    <tr>\n",
       "      <th>4</th>\n",
       "      <td>289</td>\n",
       "      <td>36</td>\n",
       "      <td>33</td>\n",
       "      <td>239.554</td>\n",
       "      <td>30</td>\n",
       "      <td>0</td>\n",
       "      <td>2</td>\n",
       "      <td>1</td>\n",
       "      <td>2</td>\n",
       "      <td>7</td>\n",
       "      <td>3</td>\n",
       "      <td>0</td>\n",
       "      <td>0</td>\n",
       "      <td>0</td>\n",
       "      <td>1</td>\n",
       "    </tr>\n",
       "  </tbody>\n",
       "</table>\n",
       "</div>"
      ],
      "text/plain": [
       "   Transportation Expense  Distance to Work  Age  Daily Work Load Average  \\\n",
       "0                     289                36   33                  239.554   \n",
       "1                     118                13   50                  239.554   \n",
       "2                     179                51   38                  239.554   \n",
       "3                     279                 5   39                  239.554   \n",
       "4                     289                36   33                  239.554   \n",
       "\n",
       "   Body Mass Index  Education  Children  Pets  Absenteeism Time in Hours  \\\n",
       "0               30          0         2     1                          4   \n",
       "1               31          0         1     0                          0   \n",
       "2               31          0         0     0                          2   \n",
       "3               24          0         2     0                          4   \n",
       "4               30          0         2     1                          2   \n",
       "\n",
       "   Month  day_of_week  Reason for Absence_1  Reason for Absence_2  \\\n",
       "0      7            1                     0                     0   \n",
       "1      7            1                     0                     0   \n",
       "2      7            2                     0                     0   \n",
       "3      7            3                     1                     0   \n",
       "4      7            3                     0                     0   \n",
       "\n",
       "   Reason for Absence_3  Reason for Absence_4  \n",
       "0                     0                     1  \n",
       "1                     0                     0  \n",
       "2                     0                     1  \n",
       "3                     0                     0  \n",
       "4                     0                     1  "
      ]
     },
     "execution_count": 98,
     "metadata": {},
     "output_type": "execute_result"
    }
   ],
   "source": [
    "final_data.head()"
   ]
  },
  {
   "cell_type": "markdown",
   "id": "b776965c",
   "metadata": {},
   "source": [
    "### create the target"
   ]
  },
  {
   "cell_type": "code",
   "execution_count": 99,
   "id": "3651e339",
   "metadata": {},
   "outputs": [],
   "source": [
    "final_data['Excessive Absenteeism'] = final_data['Absenteeism Time in Hours'].apply(lambda x: 1 if x>final_data['Absenteeism Time in Hours'].median() else 0)"
   ]
  },
  {
   "cell_type": "code",
   "execution_count": 100,
   "id": "8be4c9ef",
   "metadata": {},
   "outputs": [],
   "source": [
    "#another way to do it:\n",
    "# final_data['Excessive Absenteeism'] = np.where(final_data['Absenteeism Time in Hours']>final_data['Absenteeism Time in Hours'].median(),1,0)"
   ]
  },
  {
   "cell_type": "code",
   "execution_count": 101,
   "id": "9aaddf55",
   "metadata": {},
   "outputs": [
    {
     "data": {
      "image/png": "[encoded data removed]",
      "text/plain": [
       "<Figure size 1000x600 with 1 Axes>"
      ]
     },
     "metadata": {},
     "output_type": "display_data"
    }
   ],
   "source": [
    "with plt.xkcd():\n",
    "    sns.barplot(data=final_data['Excessive Absenteeism'].value_counts().reset_index(),y='Excessive Absenteeism', x='index',errorbar=None )\n",
    "    ax = plt.gca()\n",
    "    for i in ax.containers:\n",
    "        plt.bar_label(i)\n",
    "    for p in ax.patches:\n",
    "        pct ='(%1.f%%)' % (100*p.get_height()/final_data.shape[0])\n",
    "        plt.annotate(pct, (p.get_x()+p.get_width()/1.7, p.get_height()+4), color='r')\n",
    "    fig = plt.gcf()\n",
    "    fig.set_size_inches(10,6)\n",
    "    ax.spines['top'].set_visible(False)\n",
    "    ax.spines['right'].set_visible(False);"
   ]
  },
  {
   "cell_type": "code",
   "execution_count": 102,
   "id": "46b7f426",
   "metadata": {},
   "outputs": [],
   "source": [
    "final_data.drop(['Absenteeism Time in Hours', 'Month', 'Age'], axis=1, inplace=True)"
   ]
  },
  {
   "cell_type": "code",
   "execution_count": 103,
   "id": "1aaafefc",
   "metadata": {},
   "outputs": [
    {
     "data": {
      "text/html": [
       "<div>\n",
       "<style scoped>\n",
       "    .dataframe tbody tr th:only-of-type {\n",
       "        vertical-align: middle;\n",
       "    }\n",
       "\n",
       "    .dataframe tbody tr th {\n",
       "        vertical-align: top;\n",
       "    }\n",
       "\n",
       "    .dataframe thead th {\n",
       "        text-align: right;\n",
       "    }\n",
       "</style>\n",
       "<table border=\"1\" class=\"dataframe\">\n",
       "  <thead>\n",
       "    <tr style=\"text-align: right;\">\n",
       "      <th></th>\n",
       "      <th>Transportation Expense</th>\n",
       "      <th>Distance to Work</th>\n",
       "      <th>Daily Work Load Average</th>\n",
       "      <th>Body Mass Index</th>\n",
       "      <th>Education</th>\n",
       "      <th>Children</th>\n",
       "      <th>Pets</th>\n",
       "      <th>day_of_week</th>\n",
       "      <th>Reason for Absence_1</th>\n",
       "      <th>Reason for Absence_2</th>\n",
       "      <th>Reason for Absence_3</th>\n",
       "      <th>Reason for Absence_4</th>\n",
       "      <th>Excessive Absenteeism</th>\n",
       "    </tr>\n",
       "  </thead>\n",
       "  <tbody>\n",
       "    <tr>\n",
       "      <th>0</th>\n",
       "      <td>289</td>\n",
       "      <td>36</td>\n",
       "      <td>239.554</td>\n",
       "      <td>30</td>\n",
       "      <td>0</td>\n",
       "      <td>2</td>\n",
       "      <td>1</td>\n",
       "      <td>1</td>\n",
       "      <td>0</td>\n",
       "      <td>0</td>\n",
       "      <td>0</td>\n",
       "      <td>1</td>\n",
       "      <td>1</td>\n",
       "    </tr>\n",
       "    <tr>\n",
       "      <th>1</th>\n",
       "      <td>118</td>\n",
       "      <td>13</td>\n",
       "      <td>239.554</td>\n",
       "      <td>31</td>\n",
       "      <td>0</td>\n",
       "      <td>1</td>\n",
       "      <td>0</td>\n",
       "      <td>1</td>\n",
       "      <td>0</td>\n",
       "      <td>0</td>\n",
       "      <td>0</td>\n",
       "      <td>0</td>\n",
       "      <td>0</td>\n",
       "    </tr>\n",
       "    <tr>\n",
       "      <th>2</th>\n",
       "      <td>179</td>\n",
       "      <td>51</td>\n",
       "      <td>239.554</td>\n",
       "      <td>31</td>\n",
       "      <td>0</td>\n",
       "      <td>0</td>\n",
       "      <td>0</td>\n",
       "      <td>2</td>\n",
       "      <td>0</td>\n",
       "      <td>0</td>\n",
       "      <td>0</td>\n",
       "      <td>1</td>\n",
       "      <td>0</td>\n",
       "    </tr>\n",
       "    <tr>\n",
       "      <th>3</th>\n",
       "      <td>279</td>\n",
       "      <td>5</td>\n",
       "      <td>239.554</td>\n",
       "      <td>24</td>\n",
       "      <td>0</td>\n",
       "      <td>2</td>\n",
       "      <td>0</td>\n",
       "      <td>3</td>\n",
       "      <td>1</td>\n",
       "      <td>0</td>\n",
       "      <td>0</td>\n",
       "      <td>0</td>\n",
       "      <td>1</td>\n",
       "    </tr>\n",
       "    <tr>\n",
       "      <th>4</th>\n",
       "      <td>289</td>\n",
       "      <td>36</td>\n",
       "      <td>239.554</td>\n",
       "      <td>30</td>\n",
       "      <td>0</td>\n",
       "      <td>2</td>\n",
       "      <td>1</td>\n",
       "      <td>3</td>\n",
       "      <td>0</td>\n",
       "      <td>0</td>\n",
       "      <td>0</td>\n",
       "      <td>1</td>\n",
       "      <td>0</td>\n",
       "    </tr>\n",
       "  </tbody>\n",
       "</table>\n",
       "</div>"
      ],
      "text/plain": [
       "   Transportation Expense  Distance to Work  Daily Work Load Average  \\\n",
       "0                     289                36                  239.554   \n",
       "1                     118                13                  239.554   \n",
       "2                     179                51                  239.554   \n",
       "3                     279                 5                  239.554   \n",
       "4                     289                36                  239.554   \n",
       "\n",
       "   Body Mass Index  Education  Children  Pets  day_of_week  \\\n",
       "0               30          0         2     1            1   \n",
       "1               31          0         1     0            1   \n",
       "2               31          0         0     0            2   \n",
       "3               24          0         2     0            3   \n",
       "4               30          0         2     1            3   \n",
       "\n",
       "   Reason for Absence_1  Reason for Absence_2  Reason for Absence_3  \\\n",
       "0                     0                     0                     0   \n",
       "1                     0                     0                     0   \n",
       "2                     0                     0                     0   \n",
       "3                     1                     0                     0   \n",
       "4                     0                     0                     0   \n",
       "\n",
       "   Reason for Absence_4  Excessive Absenteeism  \n",
       "0                     1                      1  \n",
       "1                     0                      0  \n",
       "2                     1                      0  \n",
       "3                     0                      1  \n",
       "4                     1                      0  "
      ]
     },
     "execution_count": 103,
     "metadata": {},
     "output_type": "execute_result"
    }
   ],
   "source": [
    "final_data.head()"
   ]
  },
  {
   "cell_type": "code",
   "execution_count": 104,
   "id": "76f4b132",
   "metadata": {},
   "outputs": [],
   "source": [
    "y = final_data['Excessive Absenteeism']"
   ]
  },
  {
   "cell_type": "code",
   "execution_count": 105,
   "id": "f3432814",
   "metadata": {},
   "outputs": [],
   "source": [
    "X = final_data.drop('Excessive Absenteeism', axis=1).copy()"
   ]
  },
  {
   "cell_type": "code",
   "execution_count": 204,
   "id": "9002450f",
   "metadata": {},
   "outputs": [
    {
     "data": {
      "text/plain": [
       "Index(['Transportation Expense', 'Distance to Work', 'Daily Work Load Average',\n",
       "       'Body Mass Index', 'Education', 'Children', 'Pets', 'day_of_week',\n",
       "       'Reason for Absence_1', 'Reason for Absence_2', 'Reason for Absence_3',\n",
       "       'Reason for Absence_4'],\n",
       "      dtype='object')"
      ]
     },
     "execution_count": 204,
     "metadata": {},
     "output_type": "execute_result"
    }
   ],
   "source": [
    "X.columns"
   ]
  },
  {
   "cell_type": "markdown",
   "id": "aa61212d",
   "metadata": {},
   "source": [
    "### split the input and fit the dataset with our pipeline"
   ]
  },
  {
   "cell_type": "code",
   "execution_count": 106,
   "id": "96ae6503",
   "metadata": {},
   "outputs": [],
   "source": [
    "class CustomScaler(BaseEstimator, TransformerMixin):\n",
    "    \n",
    "    def __init__(self, columns):\n",
    "        self.scaler = StandardScaler()\n",
    "        self.columns = columns\n",
    "        self.mean_ = None\n",
    "        self.var_ = None\n",
    "        \n",
    "    def fit(self, X, y = None):\n",
    "        self.scaler.fit(X[self.columns], y)\n",
    "        self.mean_ = np.mean(X[self.columns])\n",
    "        self.var_ = np.var(X[self.columns])\n",
    "        return self\n",
    "    \n",
    "    def transform(self, X, y=None):\n",
    "        init_col_order = X.columns\n",
    "        x_scaled = pd.DataFrame(self.scaler.transform(X[self.columns]), columns=self.columns)\n",
    "        x_not_scaled = X.loc[:, ~X.columns.isin(self.columns)]\n",
    "        return pd.concat([x_scaled, x_not_scaled], axis=1)[init_col_order]"
   ]
  },
  {
   "cell_type": "code",
   "execution_count": 107,
   "id": "f5b52182",
   "metadata": {},
   "outputs": [],
   "source": [
    "not_dummies = ['Transportation Expense', 'Distance to Work',\n",
    "       'Daily Work Load Average', 'Body Mass Index', 'Children',\n",
    "       'Pets', 'day_of_week']"
   ]
  },
  {
   "cell_type": "code",
   "execution_count": 108,
   "id": "f14d72eb",
   "metadata": {},
   "outputs": [],
   "source": [
    "pipe = Pipeline([('scaler', CustomScaler(not_dummies)),('clf', LogisticRegression())])"
   ]
  },
  {
   "cell_type": "code",
   "execution_count": 109,
   "id": "81101fec",
   "metadata": {},
   "outputs": [
    {
     "name": "stderr",
     "output_type": "stream",
     "text": [
      "/Library/Frameworks/Python.framework/Versions/3.10/lib/python3.10/site-packages/numpy/core/fromnumeric.py:3472: FutureWarning:\n",
      "\n",
      "In a future version, DataFrame.mean(axis=None) will return a scalar mean over the entire DataFrame. To retain the old behavior, use 'frame.mean(axis=0)' or just 'frame.mean()'\n",
      "\n"
     ]
    },
    {
     "data": {
      "text/plain": [
       "Pipeline(steps=[('scaler',\n",
       "                 CustomScaler(columns=['Transportation Expense',\n",
       "                                       'Distance to Work',\n",
       "                                       'Daily Work Load Average',\n",
       "                                       'Body Mass Index', 'Children', 'Pets',\n",
       "                                       'day_of_week'])),\n",
       "                ('clf', LogisticRegression())])"
      ]
     },
     "execution_count": 109,
     "metadata": {},
     "output_type": "execute_result"
    }
   ],
   "source": [
    "pipe.fit(X.iloc[:500,:],y[:500])"
   ]
  },
  {
   "cell_type": "code",
   "execution_count": 110,
   "id": "cecfb2d0",
   "metadata": {},
   "outputs": [
    {
     "data": {
      "text/plain": [
       "0.764"
      ]
     },
     "execution_count": 110,
     "metadata": {},
     "output_type": "execute_result"
    }
   ],
   "source": [
    "pipe.score(X.iloc[:500,:],y[:500]) # the accuracy score"
   ]
  },
  {
   "cell_type": "code",
   "execution_count": 111,
   "id": "e144e352",
   "metadata": {},
   "outputs": [],
   "source": [
    "prediction = pipe.predict(X.iloc[:500,:])"
   ]
  },
  {
   "cell_type": "code",
   "execution_count": 112,
   "id": "d6e487b5",
   "metadata": {},
   "outputs": [
    {
     "data": {
      "text/plain": [
       "382"
      ]
     },
     "execution_count": 112,
     "metadata": {},
     "output_type": "execute_result"
    }
   ],
   "source": [
    "np.sum(y[:500]==prediction)"
   ]
  },
  {
   "cell_type": "code",
   "execution_count": 113,
   "id": "0d45f442",
   "metadata": {},
   "outputs": [
    {
     "data": {
      "text/plain": [
       "500"
      ]
     },
     "execution_count": 113,
     "metadata": {},
     "output_type": "execute_result"
    }
   ],
   "source": [
    "X.iloc[:500,:].shape[0]"
   ]
  },
  {
   "cell_type": "code",
   "execution_count": 114,
   "id": "45db574c",
   "metadata": {},
   "outputs": [
    {
     "data": {
      "text/plain": [
       "0.764"
      ]
     },
     "execution_count": 114,
     "metadata": {},
     "output_type": "execute_result"
    }
   ],
   "source": [
    "np.sum(y[:500]==prediction)/X.iloc[:500,:].shape[0] # this is how the accuracy calculated"
   ]
  },
  {
   "cell_type": "markdown",
   "id": "5fd5497e",
   "metadata": {},
   "source": [
    "### the intercept and coefficients "
   ]
  },
  {
   "cell_type": "code",
   "execution_count": 115,
   "id": "7ad949f8",
   "metadata": {},
   "outputs": [
    {
     "data": {
      "text/plain": [
       "array([-1.54900305])"
      ]
     },
     "execution_count": 115,
     "metadata": {},
     "output_type": "execute_result"
    }
   ],
   "source": [
    "pipe.steps[1][1].intercept_"
   ]
  },
  {
   "cell_type": "code",
   "execution_count": 116,
   "id": "fea5adee",
   "metadata": {},
   "outputs": [
    {
     "data": {
      "text/plain": [
       "array([ 0.58037796,  0.12266046, -0.09551836,  0.11733009,  0.36049222,\n",
       "        0.34201404, -0.15375327, -0.19692465,  2.88053785,  1.20422314,\n",
       "        3.05530258,  0.93501181])"
      ]
     },
     "execution_count": 116,
     "metadata": {},
     "output_type": "execute_result"
    }
   ],
   "source": [
    "pipe.steps[1][1].coef_[0]"
   ]
  },
  {
   "cell_type": "code",
   "execution_count": 117,
   "id": "e34d7399",
   "metadata": {},
   "outputs": [
    {
     "data": {
      "text/plain": [
       "array(['Transportation Expense', 'Distance to Work',\n",
       "       'Daily Work Load Average', 'Body Mass Index', 'Education',\n",
       "       'Children', 'Pets', 'day_of_week', 'Reason for Absence_1',\n",
       "       'Reason for Absence_2', 'Reason for Absence_3',\n",
       "       'Reason for Absence_4'], dtype=object)"
      ]
     },
     "execution_count": 117,
     "metadata": {},
     "output_type": "execute_result"
    }
   ],
   "source": [
    "X.columns.values"
   ]
  },
  {
   "cell_type": "code",
   "execution_count": 118,
   "id": "72d9bd65",
   "metadata": {},
   "outputs": [],
   "source": [
    "summary = pd.DataFrame({'feature name':X.columns.values, 'coef':pipe.steps[1][1].coef_[0]})"
   ]
  },
  {
   "cell_type": "code",
   "execution_count": 119,
   "id": "913eb579",
   "metadata": {},
   "outputs": [
    {
     "data": {
      "text/html": [
       "<div>\n",
       "<style scoped>\n",
       "    .dataframe tbody tr th:only-of-type {\n",
       "        vertical-align: middle;\n",
       "    }\n",
       "\n",
       "    .dataframe tbody tr th {\n",
       "        vertical-align: top;\n",
       "    }\n",
       "\n",
       "    .dataframe thead th {\n",
       "        text-align: right;\n",
       "    }\n",
       "</style>\n",
       "<table border=\"1\" class=\"dataframe\">\n",
       "  <thead>\n",
       "    <tr style=\"text-align: right;\">\n",
       "      <th></th>\n",
       "      <th>feature name</th>\n",
       "      <th>coef</th>\n",
       "      <th>odd_ratio</th>\n",
       "    </tr>\n",
       "  </thead>\n",
       "  <tbody>\n",
       "    <tr>\n",
       "      <th>0</th>\n",
       "      <td>intercept</td>\n",
       "      <td>-1.549003</td>\n",
       "      <td>0.212460</td>\n",
       "    </tr>\n",
       "    <tr>\n",
       "      <th>1</th>\n",
       "      <td>Transportation Expense</td>\n",
       "      <td>0.580378</td>\n",
       "      <td>1.786714</td>\n",
       "    </tr>\n",
       "    <tr>\n",
       "      <th>2</th>\n",
       "      <td>Distance to Work</td>\n",
       "      <td>0.122660</td>\n",
       "      <td>1.130501</td>\n",
       "    </tr>\n",
       "    <tr>\n",
       "      <th>3</th>\n",
       "      <td>Daily Work Load Average</td>\n",
       "      <td>-0.095518</td>\n",
       "      <td>0.908902</td>\n",
       "    </tr>\n",
       "    <tr>\n",
       "      <th>4</th>\n",
       "      <td>Body Mass Index</td>\n",
       "      <td>0.117330</td>\n",
       "      <td>1.124491</td>\n",
       "    </tr>\n",
       "    <tr>\n",
       "      <th>5</th>\n",
       "      <td>Education</td>\n",
       "      <td>0.360492</td>\n",
       "      <td>1.434035</td>\n",
       "    </tr>\n",
       "    <tr>\n",
       "      <th>6</th>\n",
       "      <td>Children</td>\n",
       "      <td>0.342014</td>\n",
       "      <td>1.407780</td>\n",
       "    </tr>\n",
       "    <tr>\n",
       "      <th>7</th>\n",
       "      <td>Pets</td>\n",
       "      <td>-0.153753</td>\n",
       "      <td>0.857484</td>\n",
       "    </tr>\n",
       "    <tr>\n",
       "      <th>8</th>\n",
       "      <td>day_of_week</td>\n",
       "      <td>-0.196925</td>\n",
       "      <td>0.821253</td>\n",
       "    </tr>\n",
       "    <tr>\n",
       "      <th>9</th>\n",
       "      <td>Reason for Absence_1</td>\n",
       "      <td>2.880538</td>\n",
       "      <td>17.823857</td>\n",
       "    </tr>\n",
       "    <tr>\n",
       "      <th>10</th>\n",
       "      <td>Reason for Absence_2</td>\n",
       "      <td>1.204223</td>\n",
       "      <td>3.334168</td>\n",
       "    </tr>\n",
       "    <tr>\n",
       "      <th>11</th>\n",
       "      <td>Reason for Absence_3</td>\n",
       "      <td>3.055303</td>\n",
       "      <td>21.227608</td>\n",
       "    </tr>\n",
       "    <tr>\n",
       "      <th>12</th>\n",
       "      <td>Reason for Absence_4</td>\n",
       "      <td>0.935012</td>\n",
       "      <td>2.547244</td>\n",
       "    </tr>\n",
       "  </tbody>\n",
       "</table>\n",
       "</div>"
      ],
      "text/plain": [
       "               feature name      coef  odd_ratio\n",
       "0                 intercept -1.549003   0.212460\n",
       "1    Transportation Expense  0.580378   1.786714\n",
       "2          Distance to Work  0.122660   1.130501\n",
       "3   Daily Work Load Average -0.095518   0.908902\n",
       "4           Body Mass Index  0.117330   1.124491\n",
       "5                 Education  0.360492   1.434035\n",
       "6                  Children  0.342014   1.407780\n",
       "7                      Pets -0.153753   0.857484\n",
       "8               day_of_week -0.196925   0.821253\n",
       "9      Reason for Absence_1  2.880538  17.823857\n",
       "10     Reason for Absence_2  1.204223   3.334168\n",
       "11     Reason for Absence_3  3.055303  21.227608\n",
       "12     Reason for Absence_4  0.935012   2.547244"
      ]
     },
     "execution_count": 119,
     "metadata": {},
     "output_type": "execute_result"
    }
   ],
   "source": [
    "summary.index = summary.index + 1\n",
    "summary.loc[0] = ['intercept', pipe.steps[1][1].intercept_[0]]\n",
    "summary = summary.sort_index()\n",
    "summary['odd_ratio'] = np.exp(summary['coef'])\n",
    "summary"
   ]
  },
  {
   "cell_type": "markdown",
   "id": "f0235d3e",
   "metadata": {},
   "source": [
    "### evaluate the model"
   ]
  },
  {
   "cell_type": "code",
   "execution_count": 158,
   "id": "aea1f4c6",
   "metadata": {},
   "outputs": [],
   "source": [
    "y_predict = pipe.predict(X.iloc[:700,:])"
   ]
  },
  {
   "cell_type": "code",
   "execution_count": 159,
   "id": "e8e74a0e",
   "metadata": {},
   "outputs": [],
   "source": [
    "ytest_pred = y_predict[500:]"
   ]
  },
  {
   "cell_type": "code",
   "execution_count": 193,
   "id": "b28a262b",
   "metadata": {},
   "outputs": [
    {
     "name": "stdout",
     "output_type": "stream",
     "text": [
      "              precision    recall  f1-score   support\n",
      "\n",
      "           0       0.87      0.71      0.78       131\n",
      "           1       0.59      0.80      0.68        69\n",
      "\n",
      "    accuracy                           0.74       200\n",
      "   macro avg       0.73      0.75      0.73       200\n",
      "weighted avg       0.77      0.74      0.75       200\n",
      "\n"
     ]
    }
   ],
   "source": [
    "print(classification_report(y[500:], ytest_pred))"
   ]
  },
  {
   "cell_type": "code",
   "execution_count": 200,
   "id": "fe4567a4",
   "metadata": {},
   "outputs": [
    {
     "data": {
      "image/png": "[encoded data removed]",
      "text/plain": [
       "<Figure size 640x480 with 1 Axes>"
      ]
     },
     "metadata": {},
     "output_type": "display_data"
    }
   ],
   "source": [
    "sns.heatmap(confusion_matrix(y[500:], ytest_pred), annot=True, cbar=False, cmap='viridis');"
   ]
  },
  {
   "cell_type": "markdown",
   "id": "e477aa51",
   "metadata": {},
   "source": [
    "### save the model"
   ]
  },
  {
   "cell_type": "code",
   "execution_count": 201,
   "id": "93825369",
   "metadata": {},
   "outputs": [],
   "source": [
    "import pickle"
   ]
  },
  {
   "cell_type": "code",
   "execution_count": 202,
   "id": "1e237901",
   "metadata": {},
   "outputs": [],
   "source": [
    "with open('final_model', 'wb') as file:\n",
    "    pickle.dump(pipe, file)"
   ]
  },
  {
   "cell_type": "code",
   "execution_count": null,
   "id": "df09a616",
   "metadata": {},
   "outputs": [],
   "source": []
  }
 ],
 "metadata": {
  "kernelspec": {
   "display_name": "Python 3 (ipykernel)",
   "language": "python",
   "name": "python3"
  },
  "language_info": {
   "codemirror_mode": {
    "name": "ipython",
    "version": 3
   },
   "file_extension": ".py",
   "mimetype": "text/x-python",
   "name": "python",
   "nbconvert_exporter": "python",
   "pygments_lexer": "ipython3",
   "version": "3.10.1"
  }
 },
 "nbformat": 4,
 "nbformat_minor": 5
}
